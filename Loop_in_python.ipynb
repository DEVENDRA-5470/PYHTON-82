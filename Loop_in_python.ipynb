{
 "cells": [
  {
   "cell_type": "code",
   "execution_count": 7,
   "id": "483a3a55-0fdd-4d07-8bc4-80b217428e5b",
   "metadata": {},
   "outputs": [],
   "source": [
    "# What is loop ? \n",
    "# Types of loop\n",
    "# 1.for loop : range based loop.\n",
    "# 2.while loop : conditioned based loop"
   ]
  },
  {
   "cell_type": "code",
   "execution_count": 34,
   "id": "71b66733-c4da-434a-80a0-142419d2fecc",
   "metadata": {},
   "outputs": [
    {
     "name": "stdout",
     "output_type": "stream",
     "text": [
      "10\n",
      "12\n",
      "14\n",
      "16\n",
      "18\n",
      "20\n",
      "22\n",
      "24\n"
     ]
    }
   ],
   "source": [
    "# range(start:0 , stop-1 , step:1)\n",
    "# it only integer value.\n",
    "for i in range(10,25):\n",
    "    if i%2==0:\n",
    "        print(i)"
   ]
  },
  {
   "cell_type": "code",
   "execution_count": 44,
   "id": "cfa0f3a4-b280-40c1-89bf-c32eb34c820b",
   "metadata": {},
   "outputs": [
    {
     "name": "stdout",
     "output_type": "stream",
     "text": [
      "Plz give correct fromate..!\n"
     ]
    }
   ],
   "source": [
    "# user take start point and end point => generate => sum\n",
    "start=5\n",
    "end=1\n",
    "s=0\n",
    "if start < end :\n",
    "    for e in range(start,end+1):\n",
    "        s=s+e\n",
    "    print(s)\n",
    "else:\n",
    "    print(\"Plz give correct fromate..!\")"
   ]
  },
  {
   "cell_type": "code",
   "execution_count": 61,
   "id": "3a56b81c-10f1-47ad-bf09-e5a8cbc01099",
   "metadata": {},
   "outputs": [],
   "source": [
    "# start=5\n",
    "# end=1\n",
    "# s=0\n",
    "# if start < end :\n",
    "#     for e in range(start,end+1):\n",
    "#         s=s+e\n",
    "#     print(s)\n",
    "# else:\n",
    "#     for e in range(end,start+1):\n",
    "#         s=s+e\n",
    "#     print(s)\n"
   ]
  },
  {
   "cell_type": "code",
   "execution_count": null,
   "id": "118fc951-ea68-45a0-a15c-f2d9b8c9da36",
   "metadata": {},
   "outputs": [],
   "source": [
    "# 2 x 1 = 2\n",
    "# 2 x 2 = 4\n",
    "# 2 x 10 =20"
   ]
  },
  {
   "cell_type": "code",
   "execution_count": 70,
   "id": "26aa9de4-e6c6-4735-8e23-6b7d8e9f3062",
   "metadata": {},
   "outputs": [],
   "source": [
    "# n=int(input(\"Enter your number : \"))\n",
    "# for e in range(1,11):\n",
    "#     print(f\"2 x {e} = {n*e}\")"
   ]
  },
  {
   "cell_type": "code",
   "execution_count": null,
   "id": "fb8bceae-b185-4cc2-b614-b60f6d56272e",
   "metadata": {},
   "outputs": [],
   "source": [
    "n=int(input(\"Enter your number : \"))\n",
    "for e in range(10,0,-1):\n",
    "    print(f\"2 x {e} = {n*e}\")"
   ]
  },
  {
   "cell_type": "code",
   "execution_count": 77,
   "id": "72123191-c424-401d-b083-0491e91acb40",
   "metadata": {},
   "outputs": [
    {
     "name": "stdout",
     "output_type": "stream",
     "text": [
      "D 0\n",
      "e 1\n",
      "v 2\n"
     ]
    }
   ],
   "source": [
    "n=\"Dev\"\n",
    "for i in range(len(n)):\n",
    "    print(n[i],i)"
   ]
  },
  {
   "cell_type": "code",
   "execution_count": 81,
   "id": "a9fed60b-1ed6-4817-a571-514d1938c132",
   "metadata": {},
   "outputs": [
    {
     "name": "stdout",
     "output_type": "stream",
     "text": [
      "7\n",
      "<class 'str'>\n",
      "6\n",
      "<class 'str'>\n",
      "7\n",
      "<class 'str'>\n"
     ]
    }
   ],
   "source": [
    "n='767'\n",
    "for i in n:\n",
    "    print(i)\n",
    "    print(type(i))"
   ]
  },
  {
   "cell_type": "code",
   "execution_count": 76,
   "id": "caa4d1fe-dd50-43b0-9a4f-6013d708c0e7",
   "metadata": {},
   "outputs": [
    {
     "name": "stdout",
     "output_type": "stream",
     "text": [
      "d\n",
      "e\n",
      "v\n"
     ]
    }
   ],
   "source": [
    "for i in \"Dev\":\n",
    "    print(i)"
   ]
  },
  {
   "cell_type": "code",
   "execution_count": 6,
   "id": "dc29509d-c508-43fe-be06-2c0808792f0f",
   "metadata": {},
   "outputs": [
    {
     "name": "stdout",
     "output_type": "stream",
     "text": [
      "ved\n"
     ]
    }
   ],
   "source": [
    "# name=\"dev\"\n",
    "# rev=\"\"\n",
    "# for e in name:\n",
    "#     rev=e+rev\n",
    "# print(rev)"
   ]
  },
  {
   "cell_type": "code",
   "execution_count": 37,
   "id": "4850482f-3f86-4da1-b8ac-1cef7be2d87c",
   "metadata": {},
   "outputs": [
    {
     "name": "stdin",
     "output_type": "stream",
     "text": [
      "Enter you name  DIOUEORDKFNSDJFSD \n"
     ]
    },
    {
     "name": "stdout",
     "output_type": "stream",
     "text": [
      "dioueordkfnsdjfsd \n",
      "i\n",
      "o\n",
      "u\n",
      "e\n",
      "o\n"
     ]
    }
   ],
   "source": [
    "# wap to print only vowel from a give string by user.\n",
    "data=input(\"Enter you name \").lower()\n",
    "print(data)\n",
    "for i in data:\n",
    "    if i in \"aeiou\":\n",
    "        print(i)"
   ]
  },
  {
   "cell_type": "code",
   "execution_count": 22,
   "id": "8ce362fc-fdc7-4c83-aa80-363f02980e5b",
   "metadata": {},
   "outputs": [],
   "source": [
    "# # Nested for loop.\n",
    "# for i in range(1,6):\n",
    "#     print(\"Outer loop-\",i)\n",
    "#     for e in range(1,4):\n",
    "#         print(\"Inner Loop\",e)\n",
    "#         for j in range(1,5):\n",
    "#             print(\"Very inner loop\")\n",
    "#             for f in range(1,3):\n",
    "#                 print(\"Last loop\")"
   ]
  },
  {
   "cell_type": "code",
   "execution_count": 24,
   "id": "a0e3221d-fc76-46f1-b1a2-f4af3cecbc9f",
   "metadata": {},
   "outputs": [
    {
     "name": "stdout",
     "output_type": "stream",
     "text": [
      "kuch bhi\n"
     ]
    }
   ],
   "source": [
    "# for e in range(5,1):\n",
    "#     print(e)\n",
    "# else :\n",
    "#     print(\"kuch bhi\")"
   ]
  },
  {
   "cell_type": "code",
   "execution_count": 31,
   "id": "52e65dc5-f2c6-4fcd-a47e-525d20e9d50b",
   "metadata": {},
   "outputs": [
    {
     "name": "stdout",
     "output_type": "stream",
     "text": [
      "1\n",
      "3\n",
      "4\n",
      "5\n",
      "8\n",
      "9\n",
      "10\n"
     ]
    }
   ],
   "source": [
    "# break and continue\n",
    "for i in range(1,11):\n",
    "    if i==6 or i==7 or i==2:\n",
    "        continue\n",
    "    print(i)"
   ]
  },
  {
   "cell_type": "code",
   "execution_count": 38,
   "id": "882e6dcd-3d45-43a3-ac49-dcb5247de8f2",
   "metadata": {},
   "outputs": [],
   "source": [
    "# for i in range(1,11):\n",
    "#     if i==6:\n",
    "#         break\n",
    "#     print(i)"
   ]
  },
  {
   "cell_type": "code",
   "execution_count": 36,
   "id": "43bc3154-71f8-4e51-ae9c-55ca8bbc3d9d",
   "metadata": {},
   "outputs": [
    {
     "name": "stdout",
     "output_type": "stream",
     "text": [
      "reaer inotech"
     ]
    }
   ],
   "source": [
    "str1=\"Dreamer infotech\"\n",
    "str1.\n",
    "for i in str1:\n",
    "    if i==\"D\" or i==\"f\" or i==\"m\":\n",
    "        continue\n",
    "    print(i,end=\"\")\n",
    "    "
   ]
  },
  {
   "cell_type": "code",
   "execution_count": 36,
   "id": "22f35762-56b1-4cac-bf28-0bcaaafd502b",
   "metadata": {},
   "outputs": [
    {
     "name": "stdin",
     "output_type": "stream",
     "text": [
      "Enter you char : e\n"
     ]
    },
    {
     "name": "stdout",
     "output_type": "stream",
     "text": [
      "founded\n"
     ]
    }
   ],
   "source": [
    "str1=\"Dreamer infotech\"\n",
    "user=input(\"Enter you char :\")\n",
    "if user in str1:\n",
    "    print(\"founded\")\n",
    "else:\n",
    "    print(\"Not founded\")"
   ]
  },
  {
   "cell_type": "code",
   "execution_count": 48,
   "id": "3ab2aebb-98ce-4068-b66f-60694015fbdb",
   "metadata": {},
   "outputs": [
    {
     "name": "stdout",
     "output_type": "stream",
     "text": [
      "6\n"
     ]
    }
   ],
   "source": [
    "str1=\"Dreamer infotech\"\n",
    "user=input(\"Enter you char :\")\n",
    "c=0\n",
    "for i in str1:\n",
    "    if i in \"aeiou\":\n",
    "        c=c+1 # standard\n",
    "        # c+=1 # shorthand\n",
    "print(c)"
   ]
  },
  {
   "cell_type": "code",
   "execution_count": 52,
   "id": "93389a20-d7b7-410b-aaf8-9d291d7c675b",
   "metadata": {},
   "outputs": [],
   "source": [
    "# import time\n",
    "# for i in range(1,5):\n",
    "#     for j in range(1,5):\n",
    "#         time.sleep(2)\n",
    "#         print(f\"{i}:{j}\")"
   ]
  },
  {
   "cell_type": "code",
   "execution_count": 1,
   "id": "412701d5-0fbe-44f2-9d88-d68664324360",
   "metadata": {},
   "outputs": [],
   "source": []
  },
  {
   "cell_type": "code",
   "execution_count": null,
   "id": "008edf6a-b956-423e-963b-98c7e68c1ed1",
   "metadata": {},
   "outputs": [],
   "source": []
  }
 ],
 "metadata": {
  "kernelspec": {
   "display_name": "Python 3 (ipykernel)",
   "language": "python",
   "name": "python3"
  },
  "language_info": {
   "codemirror_mode": {
    "name": "ipython",
    "version": 3
   },
   "file_extension": ".py",
   "mimetype": "text/x-python",
   "name": "python",
   "nbconvert_exporter": "python",
   "pygments_lexer": "ipython3",
   "version": "3.13.5"
  }
 },
 "nbformat": 4,
 "nbformat_minor": 5
}
