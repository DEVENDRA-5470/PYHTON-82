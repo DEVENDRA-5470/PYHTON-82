{
 "cells": [
  {
   "cell_type": "code",
   "execution_count": null,
   "id": "fccd8205-666d-49fa-842f-a05edd08df3f",
   "metadata": {},
   "outputs": [],
   "source": [
    "# What is error/exception handling ? \n",
    "# Error handling is a methedology to handle the program,s\n",
    "# exception or error efficiently.\n",
    "\n",
    "try\n",
    "except\n",
    "finally\n",
    "\n",
    "ZeroDivisionError\n",
    "ValueError\n",
    "NameError\n"
   ]
  },
  {
   "cell_type": "code",
   "execution_count": 21,
   "id": "9315f14c-28ca-444b-8489-4275cf6be258",
   "metadata": {},
   "outputs": [
    {
     "name": "stdout",
     "output_type": "stream",
     "text": [
      "Something went wrong : division by zero\n",
      "I am always work\n"
     ]
    }
   ],
   "source": [
    "try:\n",
    "    n=10\n",
    "    res=n/0\n",
    "    print(z)\n",
    "except ZeroDivisionError as z:\n",
    "    print(\"Something went wrong :\",z)\n",
    "except NameError as n:\n",
    "    print(\"Something went wrong :\",n)\n",
    "finally:\n",
    "    print(\"I am always work\")"
   ]
  },
  {
   "cell_type": "code",
   "execution_count": 27,
   "id": "0105cd36-88f0-4db1-91c8-ba7d09592cc1",
   "metadata": {},
   "outputs": [
    {
     "name": "stdout",
     "output_type": "stream",
     "text": [
      "Error:unsupported operand type(s) for /: 'str' and 'int'\n",
      "I am always work\n"
     ]
    }
   ],
   "source": [
    "try:\n",
    "    n=\"7398473\"\n",
    "    res=n/2\n",
    "    if res==0:\n",
    "        print(\"yes\")\n",
    "    print(z)\n",
    "except Exception as e:\n",
    "    print(f\"Error:{e}\")\n",
    "finally:\n",
    "    print(\"I am always work\")"
   ]
  },
  {
   "cell_type": "code",
   "execution_count": 39,
   "id": "78d21640-6319-47c8-891a-701f0c9bb625",
   "metadata": {},
   "outputs": [
    {
     "name": "stdin",
     "output_type": "stream",
     "text": [
      "Enter your number lkhfkjsd\n"
     ]
    },
    {
     "name": "stdout",
     "output_type": "stream",
     "text": [
      "Please enter only intger values \n"
     ]
    }
   ],
   "source": [
    "try:\n",
    "    user=int(input(\"Enter your number\"))\n",
    "    if user%2==0:\n",
    "        print(\"EVEN\")\n",
    "    else:\n",
    "        print(\"ODD\")\n",
    "except ValueError:\n",
    "    print(\"Please enter only intger values \")\n",
    "except NameError:\n",
    "    print(\"Please Check your variables\")"
   ]
  },
  {
   "cell_type": "code",
   "execution_count": 32,
   "id": "78197bd5-63a8-4d04-a703-8e668f15e4d3",
   "metadata": {},
   "outputs": [
    {
     "name": "stdin",
     "output_type": "stream",
     "text": [
      "Enter your number kjfkd\n"
     ]
    },
    {
     "ename": "ValueError",
     "evalue": "invalid literal for int() with base 10: 'kjfkd'",
     "output_type": "error",
     "traceback": [
      "\u001b[1;31m---------------------------------------------------------------------------\u001b[0m",
      "\u001b[1;31mValueError\u001b[0m                                Traceback (most recent call last)",
      "Cell \u001b[1;32mIn[32], line 1\u001b[0m\n\u001b[1;32m----> 1\u001b[0m user\u001b[38;5;241m=\u001b[39m\u001b[38;5;28;43mint\u001b[39;49m\u001b[43m(\u001b[49m\u001b[38;5;28;43minput\u001b[39;49m\u001b[43m(\u001b[49m\u001b[38;5;124;43m\"\u001b[39;49m\u001b[38;5;124;43mEnter your number\u001b[39;49m\u001b[38;5;124;43m\"\u001b[39;49m\u001b[43m)\u001b[49m\u001b[43m)\u001b[49m\n\u001b[0;32m      2\u001b[0m \u001b[38;5;28;01mif\u001b[39;00m user\u001b[38;5;241m%\u001b[39m\u001b[38;5;241m2\u001b[39m\u001b[38;5;241m==\u001b[39m\u001b[38;5;241m0\u001b[39m:\n\u001b[0;32m      3\u001b[0m     \u001b[38;5;28mprint\u001b[39m(\u001b[38;5;124m\"\u001b[39m\u001b[38;5;124mEVEN\u001b[39m\u001b[38;5;124m\"\u001b[39m)\n",
      "\u001b[1;31mValueError\u001b[0m: invalid literal for int() with base 10: 'kjfkd'"
     ]
    }
   ],
   "source": [
    "user=int(input(\"Enter your number\"))\n",
    "if user%2==0:\n",
    "    print(\"EVEN\")\n",
    "else:\n",
    "    print(\"ODD\")"
   ]
  }
 ],
 "metadata": {
  "kernelspec": {
   "display_name": "Python 3 (ipykernel)",
   "language": "python",
   "name": "python3"
  },
  "language_info": {
   "codemirror_mode": {
    "name": "ipython",
    "version": 3
   },
   "file_extension": ".py",
   "mimetype": "text/x-python",
   "name": "python",
   "nbconvert_exporter": "python",
   "pygments_lexer": "ipython3",
   "version": "3.13.5"
  }
 },
 "nbformat": 4,
 "nbformat_minor": 5
}
