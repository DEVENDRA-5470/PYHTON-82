{
 "cells": [
  {
   "cell_type": "code",
   "execution_count": null,
   "id": "aa07ad0f-c6cf-4f78-8fac-ddd78f3ea454",
   "metadata": {},
   "outputs": [],
   "source": []
  },
  {
   "cell_type": "code",
   "execution_count": 33,
   "id": "f8c4cbba-4ac7-46f4-8645-9ab73679e1e0",
   "metadata": {},
   "outputs": [
    {
     "name": "stdout",
     "output_type": "stream",
     "text": [
      "50\n"
     ]
    }
   ],
   "source": [
    "# 1.Variable can not start with any symbol (exclude(_)) and number.\n",
    "# 2.Variable can not contain whitespaces.\n",
    "# 3.Can not use Predefined keyword in python as variable.\n",
    "# 4.Variable in python are case-senstive.\n",
    "a=20\n",
    "b=30\n",
    "print(a+b)"
   ]
  },
  {
   "cell_type": "code",
   "execution_count": 43,
   "id": "5ed14a6d-57ef-4902-b8da-b1785fc8949e",
   "metadata": {},
   "outputs": [
    {
     "name": "stdout",
     "output_type": "stream",
     "text": [
      "34\n",
      "50\n",
      "66\n",
      "58\n",
      "68\n",
      "140720658597832\n",
      "<class 'int'>\n"
     ]
    }
   ],
   "source": [
    "a=34\n",
    "b=50\n",
    "c=66\n",
    "d=58\n",
    "g=68\n",
    "\n",
    "print(a)\n",
    "print(b)\n",
    "# print(f)\n",
    "print(c)\n",
    "print(d)\n",
    "print(g)\n",
    "print(id(a))\n",
    "print(type(a))"
   ]
  },
  {
   "cell_type": "code",
   "execution_count": null,
   "id": "72f50732-f85f-4b0e-95f1-d52375500652",
   "metadata": {},
   "outputs": [],
   "source": [
    "# What is variable and why creats.\n",
    "# Data types\n"
   ]
  },
  {
   "cell_type": "code",
   "execution_count": null,
   "id": "93b0aaf8-6888-4e14-81d3-6c3022f88ee1",
   "metadata": {},
   "outputs": [],
   "source": [
    "# Data types : \n",
    "# 1.integer (int) -> positive/negative number .\n",
    "# 2.Float (decimal)\n",
    "# 3.String (str) -> group of char (name,address).\n",
    "# 4.boolean (True:1,False:0)"
   ]
  },
  {
   "cell_type": "code",
   "execution_count": 1,
   "id": "a975da57-2d40-494a-9a2a-d055780f270f",
   "metadata": {},
   "outputs": [
    {
     "name": "stdout",
     "output_type": "stream",
     "text": [
      "<class 'int'>\n"
     ]
    }
   ],
   "source": [
    "# 1.integer (int) -> positive/negative number .\n",
    "num=300\n",
    "print(type(num))"
   ]
  },
  {
   "cell_type": "code",
   "execution_count": 2,
   "id": "463a872a-7aca-496f-814f-df6f1d0db01d",
   "metadata": {},
   "outputs": [
    {
     "name": "stdout",
     "output_type": "stream",
     "text": [
      "<class 'float'>\n"
     ]
    }
   ],
   "source": [
    "# 2.Float (decimal)\n",
    "n1=50.78\n",
    "print(type(n1))"
   ]
  },
  {
   "cell_type": "code",
   "execution_count": 3,
   "id": "232c4e15-db3e-41a7-b321-304f74a1d533",
   "metadata": {},
   "outputs": [
    {
     "name": "stdout",
     "output_type": "stream",
     "text": [
      "<class 'str'>\n"
     ]
    }
   ],
   "source": [
    "# 3.String (str) -> group of char (name,address).\n",
    "user_name=\"Aman\"\n",
    "print(type(user_name))"
   ]
  },
  {
   "cell_type": "code",
   "execution_count": 4,
   "id": "c34f24a2-34bc-47b1-abc3-430b95d51825",
   "metadata": {},
   "outputs": [
    {
     "name": "stdout",
     "output_type": "stream",
     "text": [
      "<class 'str'>\n"
     ]
    }
   ],
   "source": [
    "user_name='Aman'\n",
    "print(type(user_name))"
   ]
  },
  {
   "cell_type": "code",
   "execution_count": 11,
   "id": "1547d0dd-1db4-416e-8a13-8d56ea8778cc",
   "metadata": {},
   "outputs": [
    {
     "name": "stdout",
     "output_type": "stream",
     "text": [
      "aman \n",
      "\"roll\":\"34768\"\n",
      "student\n"
     ]
    }
   ],
   "source": [
    "user_details='''aman \n",
    "\"roll\":\"34768\"\n",
    "student'''\n",
    "print(user_details)"
   ]
  },
  {
   "cell_type": "code",
   "execution_count": 15,
   "id": "9a60a0fb-26a3-4ba4-a2ee-a00e8c3cf6ad",
   "metadata": {},
   "outputs": [
    {
     "name": "stdout",
     "output_type": "stream",
     "text": [
      "Lorem ipsum is a dummy text without any sense. It is a sequence of Latin words that,\n",
      "                    as they are positioned, do not form sentences with a complete sense, but give life\n",
      "        to a test text useful to fill spaces that will subsequently be occupied from \n",
      "                                ad hoc texts composed by \"communication\" professionals.\n",
      "<class 'str'>\n",
      "<class 'int'>\n",
      "<class 'str'>\n"
     ]
    }
   ],
   "source": [
    "text=\"\"\"Lorem ipsum is a dummy text without any sense. It is a sequence of Latin words that,\n",
    "                    as they are positioned, do not form sentences with a complete sense, but give life\n",
    "        to a test text useful to fill spaces that will subsequently be occupied from \n",
    "                                ad hoc texts composed by \"communication\" professionals.\"\"\"\n",
    "print(text)\n",
    "print(type(text))\n",
    "\n",
    "text=6776\n",
    "print(type(text))\n",
    "\n",
    "text='6776'\n",
    "print(type(text))"
   ]
  },
  {
   "cell_type": "code",
   "execution_count": 18,
   "id": "11e48069-2f2a-4b34-94f0-a2605389cb13",
   "metadata": {},
   "outputs": [
    {
     "name": "stdout",
     "output_type": "stream",
     "text": [
      "<class 'bool'>\n",
      "<class 'bool'>\n"
     ]
    }
   ],
   "source": [
    "# 4.boolean (True:1,False:0)\n",
    "a=True\n",
    "b=False\n",
    "print(type(a))\n",
    "print(type(b))"
   ]
  },
  {
   "cell_type": "code",
   "execution_count": 21,
   "id": "0c29b5be-1f7b-48bc-b989-108945254229",
   "metadata": {},
   "outputs": [
    {
     "name": "stdin",
     "output_type": "stream",
     "text": [
      "Enter your num 1 :  45\n",
      "Enter your num 2 :  45\n"
     ]
    },
    {
     "name": "stdout",
     "output_type": "stream",
     "text": [
      "4545\n",
      "<class 'str'>\n",
      "<class 'str'>\n"
     ]
    }
   ],
   "source": [
    "## I/O : INPUT / OUTPUT OPERATION\n",
    "num1=input(\"Enter your num 1 : \")\n",
    "num2=input(\"Enter your num 2 : \")\n",
    "print(num1+num2)\n",
    "print(type(num1))\n",
    "print(type(num2))"
   ]
  },
  {
   "cell_type": "code",
   "execution_count": 22,
   "id": "c3056704-9781-48c0-88fb-7263deb6fc89",
   "metadata": {},
   "outputs": [
    {
     "name": "stdout",
     "output_type": "stream",
     "text": [
      "64.9\n"
     ]
    }
   ],
   "source": [
    "# type conversion : automatically -> samll->large\n",
    "num=34.90\n",
    "num1=30\n",
    "print(num+num1)"
   ]
  },
  {
   "cell_type": "code",
   "execution_count": 32,
   "id": "a427a290-030e-469d-a4cd-6d7549aa4bb6",
   "metadata": {},
   "outputs": [
    {
     "name": "stdout",
     "output_type": "stream",
     "text": [
      "<class 'float'>\n",
      "<class 'int'>\n",
      "64.9\n",
      "64\n"
     ]
    }
   ],
   "source": [
    "# type casting : forcefully -> large:small\n",
    "num=34.90\n",
    "num1=30\n",
    "res=num+num1\n",
    "new_res=int(res)\n",
    "print(type(res))\n",
    "print(type(new_res))\n",
    "print(res)\n",
    "print(new_res)"
   ]
  },
  {
   "cell_type": "code",
   "execution_count": 24,
   "id": "fddf25f6-bb42-4b28-96d5-08c46028b41b",
   "metadata": {},
   "outputs": [
    {
     "name": "stdout",
     "output_type": "stream",
     "text": [
      "64.9\n"
     ]
    }
   ],
   "source": [
    "num=34.90\n",
    "num1=30\n",
    "res=num+num1\n",
    "print(res)"
   ]
  },
  {
   "cell_type": "code",
   "execution_count": 35,
   "id": "d20b0bb3-14ae-4d5c-ac98-fc8634b89afa",
   "metadata": {},
   "outputs": [
    {
     "name": "stdin",
     "output_type": "stream",
     "text": [
      "Enter your num 1 :  23\n",
      "Enter your num 2 :  23\n"
     ]
    },
    {
     "name": "stdout",
     "output_type": "stream",
     "text": [
      "46\n"
     ]
    }
   ],
   "source": [
    "num1=int( input(\"Enter your num 1 : \") )\n",
    "num2=int( input(\"Enter your num 2 : \") )\n",
    "res=num1+num2\n",
    "print(res)"
   ]
  },
  {
   "cell_type": "code",
   "execution_count": null,
   "id": "81bd7959-b7f3-4c98-85da-58955c5dacca",
   "metadata": {},
   "outputs": [],
   "source": [
    "int()\n",
    "str()\n",
    "float()"
   ]
  },
  {
   "cell_type": "code",
   "execution_count": 37,
   "id": "8801999d-6a06-4d11-87cb-fda3000dea15",
   "metadata": {},
   "outputs": [
    {
     "name": "stdin",
     "output_type": "stream",
     "text": [
      "Enter your num 1 :  34\n",
      "Enter your num 2 :  34\n"
     ]
    },
    {
     "name": "stdout",
     "output_type": "stream",
     "text": [
      "68\n"
     ]
    }
   ],
   "source": [
    "num1=float( input(\"Enter your num 1 : \") )\n",
    "num2=float( input(\"Enter your num 2 : \") )\n",
    "res=num1+num2\n",
    "print(res)"
   ]
  },
  {
   "cell_type": "code",
   "execution_count": 39,
   "id": "d1b4b371-4393-478e-b99c-41c5de800c8d",
   "metadata": {},
   "outputs": [
    {
     "name": "stdin",
     "output_type": "stream",
     "text": [
      "Enter your num 1 :  Dev\n",
      "Enter your num 2 :  noida\n"
     ]
    },
    {
     "name": "stdout",
     "output_type": "stream",
     "text": [
      "Dev noida\n"
     ]
    }
   ],
   "source": [
    "user_name=str( input(\"Enter your num 1 : \") )\n",
    "user_address=str( input(\"Enter your num 2 : \") )\n",
    "res=user_name+\"-\"+user_address\n",
    "print(res)"
   ]
  },
  {
   "cell_type": "code",
   "execution_count": 40,
   "id": "2b607b87-7cff-4140-9042-bc7ac2de80e2",
   "metadata": {},
   "outputs": [
    {
     "name": "stdin",
     "output_type": "stream",
     "text": [
      "Enter your num 1 :  34\n",
      "Enter your num 2 :  34\n"
     ]
    },
    {
     "name": "stdout",
     "output_type": "stream",
     "text": [
      "68.0\n"
     ]
    }
   ],
   "source": [
    "num1=float( input(\"Enter your num 1 : \") )\n",
    "num2=int( input(\"Enter your num 2 : \") )\n",
    "res=num1+num2\n",
    "print(res)"
   ]
  },
  {
   "cell_type": "code",
   "execution_count": 42,
   "id": "58ef01a6-18fb-49b8-a2a0-397b4c0abcdd",
   "metadata": {},
   "outputs": [
    {
     "name": "stdin",
     "output_type": "stream",
     "text": [
      "Enter your num 1 :  34.89\n"
     ]
    },
    {
     "ename": "ValueError",
     "evalue": "invalid literal for int() with base 10: '34.89'",
     "output_type": "error",
     "traceback": [
      "\u001b[1;31m---------------------------------------------------------------------------\u001b[0m",
      "\u001b[1;31mValueError\u001b[0m                                Traceback (most recent call last)",
      "Cell \u001b[1;32mIn[42], line 1\u001b[0m\n\u001b[1;32m----> 1\u001b[0m num1\u001b[38;5;241m=\u001b[39m\u001b[38;5;28;43mint\u001b[39;49m\u001b[43m(\u001b[49m\u001b[43m \u001b[49m\u001b[38;5;28;43minput\u001b[39;49m\u001b[43m(\u001b[49m\u001b[38;5;124;43m\"\u001b[39;49m\u001b[38;5;124;43mEnter your num 1 : \u001b[39;49m\u001b[38;5;124;43m\"\u001b[39;49m\u001b[43m)\u001b[49m\u001b[43m \u001b[49m\u001b[43m)\u001b[49m\n\u001b[0;32m      2\u001b[0m num2\u001b[38;5;241m=\u001b[39m\u001b[38;5;28mint\u001b[39m( \u001b[38;5;28minput\u001b[39m(\u001b[38;5;124m\"\u001b[39m\u001b[38;5;124mEnter your num 2 : \u001b[39m\u001b[38;5;124m\"\u001b[39m) )\n\u001b[0;32m      3\u001b[0m res\u001b[38;5;241m=\u001b[39mnum1\u001b[38;5;241m+\u001b[39mnum2\n",
      "\u001b[1;31mValueError\u001b[0m: invalid literal for int() with base 10: '34.89'"
     ]
    }
   ],
   "source": [
    "num1=int( input(\"Enter your num 1 : \") )\n",
    "num2=int( input(\"Enter your num 2 : \") )\n",
    "res=num1+num2\n",
    "print(res)"
   ]
  },
  {
   "cell_type": "code",
   "execution_count": 46,
   "id": "35b83760-cceb-4199-881e-809c7b735e9f",
   "metadata": {},
   "outputs": [
    {
     "ename": "TypeError",
     "evalue": "object of type 'int' has no len()",
     "output_type": "error",
     "traceback": [
      "\u001b[1;31m---------------------------------------------------------------------------\u001b[0m",
      "\u001b[1;31mTypeError\u001b[0m                                 Traceback (most recent call last)",
      "Cell \u001b[1;32mIn[46], line 2\u001b[0m\n\u001b[0;32m      1\u001b[0m user_mob\u001b[38;5;241m=\u001b[39m\u001b[38;5;241m8787878778\u001b[39m\n\u001b[1;32m----> 2\u001b[0m \u001b[38;5;28mprint\u001b[39m(\u001b[38;5;28;43mlen\u001b[39;49m\u001b[43m(\u001b[49m\u001b[43muser_mob\u001b[49m\u001b[43m)\u001b[49m)\n\u001b[0;32m      3\u001b[0m res\u001b[38;5;241m=\u001b[39m\u001b[38;5;28mstr\u001b[39m(user_mob)\n\u001b[0;32m      4\u001b[0m \u001b[38;5;28mprint\u001b[39m(\u001b[38;5;28mtype\u001b[39m(res))\n",
      "\u001b[1;31mTypeError\u001b[0m: object of type 'int' has no len()"
     ]
    }
   ],
   "source": [
    "user_mob=8787878778\n",
    "print(len(user_mob))\n",
    "res=str(user_mob)\n",
    "print(type(res))\n",
    "print(len(res))"
   ]
  },
  {
   "cell_type": "code",
   "execution_count": 5,
   "id": "fef661d8-74f7-4792-867f-f554669bdaf9",
   "metadata": {},
   "outputs": [
    {
     "name": "stdin",
     "output_type": "stream",
     "text": [
      "Enter your number : 847584\n"
     ]
    },
    {
     "name": "stdout",
     "output_type": "stream",
     "text": [
      "The last digit of 847584 is : 4\n",
      "The last digit of 847584 is : 4\n"
     ]
    }
   ],
   "source": [
    "# wap to print the last digit of a number given by user.\n",
    "num=int(input(\"Enter your number :\"))\n",
    "res=num%10\n",
    "print(\"The last digit of\",num,\"is :\",res)\n",
    "print(f\"The last digit of {num} is : {res}\")"
   ]
  },
  {
   "cell_type": "code",
   "execution_count": null,
   "id": "0b8cc6e0-8bc2-47a0-967a-263845de04f6",
   "metadata": {},
   "outputs": [],
   "source": [
    "# Operators in python.\n",
    "# 1.Arithmatic operator (+,-,*,**:exponential,/:division,//:floor div,%:modulus->remeinder)\n",
    "# 2.Comparision/Relational operator (<,>,<=,>=,==,!=)\n",
    "# 3.Assignment operator (+=,-=,/=)\n",
    "# 4.Membership operator (in ,not in)\n",
    "# 5.Identity operator (is ,is not)\n",
    "# 6.Logical operator( and , or ,not)\n",
    "# 7.Bitwise operator (&,|,^,<<,>>)"
   ]
  },
  {
   "cell_type": "code",
   "execution_count": 22,
   "id": "d1a9a778-e67b-4c89-93d4-b2c371368554",
   "metadata": {},
   "outputs": [
    {
     "name": "stdout",
     "output_type": "stream",
     "text": [
      "6\n"
     ]
    }
   ],
   "source": [
    "# 1.Arithmatic operator\n",
    "n1=20\n",
    "n2=7\n",
    "# res = n1+n2\n",
    "# res = n1-n2\n",
    "# res = n1*n2\n",
    "# res= n1**n2\n",
    "# res=n1%n2 \n",
    "# res = n1/n2\n",
    "# res = n1//n2\n",
    "print(res)"
   ]
  },
  {
   "cell_type": "code",
   "execution_count": 30,
   "id": "ff71c5ea-d2c3-4363-9bb4-ebc5cc25bc11",
   "metadata": {},
   "outputs": [
    {
     "name": "stdout",
     "output_type": "stream",
     "text": [
      "True\n"
     ]
    }
   ],
   "source": [
    "# 2.Comparision/Relational operator (<,>,<=,>=,==,!=)\n",
    "# user1_age=50\n",
    "# user2_age=40\n",
    "# res=user1_age>user2_age\n",
    "# res=user1_age==user2_age\n",
    "# res=user1_age<user2_age\n",
    "# res=user1_age>=user2_age\n",
    "# res=user1_age<=user2_age\n",
    "# res=user1_age!=user2_age\n",
    "\n",
    "print(res)"
   ]
  },
  {
   "cell_type": "code",
   "execution_count": 34,
   "id": "6083a3e2-768a-4edb-942f-3399e5e8f9a8",
   "metadata": {},
   "outputs": [
    {
     "name": "stdout",
     "output_type": "stream",
     "text": [
      "False\n"
     ]
    }
   ],
   "source": [
    "# t1=True\n",
    "# t2=True*1*0\n",
    "# res=t1==t2\n",
    "# print(res)"
   ]
  },
  {
   "cell_type": "code",
   "execution_count": 37,
   "id": "0ea3bf68-8689-4f45-8509-2e51a8e516ca",
   "metadata": {},
   "outputs": [
    {
     "name": "stdout",
     "output_type": "stream",
     "text": [
      "350.0\n"
     ]
    }
   ],
   "source": [
    "# 3.Assignment operator (+=,-=,/=)\n",
    "# a=30\n",
    "# #a=a+40 # standard method.\n",
    "# a+=40 # shorthand method.\n",
    "# a*=10\n",
    "# a/=2\n",
    "# print(a)"
   ]
  },
  {
   "cell_type": "code",
   "execution_count": 51,
   "id": "3a28a090-219c-4f2a-9f18-2ef02b5ee8c1",
   "metadata": {},
   "outputs": [],
   "source": [
    "# 6.Logical operator( and , or ,not)\n",
    "# user1_age=50\n",
    "# user2_age=40\n",
    "# res=(user1_age>user2_age) and (user1_age > 45) and (user2_age<user1_age) or  (10>44)\n",
    "# res=(user1_age<user2_age) or (user1_age < 45) or (user2_age<user1_age) or (10>44)\n",
    "# res=not((user1_age>user2_age) and (user1_age > 45) and (user2_age<user1_age) and (10>44))\n",
    "# res=not(user1_age>user2_age) and not(user1_age > 45) and not(user2_age<user1_age) and (10>44)\n",
    "\n",
    "# res=user1_age<user2_age\n",
    "# res=user1_age>=user2_age\n",
    "# res=user1_age<=user2_age\n",
    "# res=user1_age!=user2_age\n",
    "# print(res)"
   ]
  },
  {
   "cell_type": "code",
   "execution_count": null,
   "id": "3f59cca4-116d-47cc-ac18-6c400a6d27c8",
   "metadata": {},
   "outputs": [],
   "source": []
  },
  {
   "cell_type": "code",
   "execution_count": 67,
   "id": "bafc29f5-8ec7-4e12-8b0c-99f9d29ac08a",
   "metadata": {},
   "outputs": [
    {
     "name": "stdout",
     "output_type": "stream",
     "text": [
      "False\n"
     ]
    }
   ],
   "source": [
    "# user1_name=\"d\"\n",
    "# user2_name=\"de\"\n",
    "# res=user1_name>=user2_name\n",
    "# print(res)"
   ]
  },
  {
   "cell_type": "code",
   "execution_count": 59,
   "id": "466ac7ea-c010-42d6-b14a-6de69b7e95c5",
   "metadata": {},
   "outputs": [
    {
     "name": "stdout",
     "output_type": "stream",
     "text": [
      "False\n"
     ]
    }
   ],
   "source": [
    "# 4.Membership operator (in ,not in) \n",
    "# note : not work on numeric values.\n",
    "# num='89867'\n",
    "# res='7' not in num\n",
    "# print(res)\n",
    "\n",
    "# num='python'\n",
    "# res='pt' in num\n",
    "# print(res)\n"
   ]
  },
  {
   "cell_type": "code",
   "execution_count": 54,
   "id": "d962bd9b-b157-4023-80ac-9f41195668c3",
   "metadata": {},
   "outputs": [
    {
     "name": "stdout",
     "output_type": "stream",
     "text": [
      "False\n",
      "1998077038224\n",
      "1998077040528\n"
     ]
    }
   ],
   "source": [
    "# 5.Identity operator (is ,is not)\n",
    "# a=1000\n",
    "# b=1000\n",
    "# res= a is b \n",
    "# print(res)\n",
    "# print(id(a))\n",
    "# print(id(b))\n",
    "\n",
    "\n",
    "# a=\"pythonflkj\"\n",
    "# b=\"pythonyure\"\n",
    "# res= a is b \n",
    "# print(res)\n",
    "# print(id(a))\n",
    "# print(id(b))"
   ]
  },
  {
   "cell_type": "code",
   "execution_count": 63,
   "id": "691ee673-734a-4559-8c6b-2a05366a34ef",
   "metadata": {},
   "outputs": [
    {
     "name": "stdout",
     "output_type": "stream",
     "text": [
      "0x2\n"
     ]
    }
   ],
   "source": [
    "# 7.Bitwise operator (&,|,^,<<,>>)\n",
    "a=3\n",
    "b=2\n",
    "res = a & b\n",
    "print(hex(res))"
   ]
  },
  {
   "cell_type": "code",
   "execution_count": 66,
   "id": "fabb04e2-5adf-4436-af5c-952b4a51c913",
   "metadata": {},
   "outputs": [
    {
     "name": "stdout",
     "output_type": "stream",
     "text": [
      "0x4d2\n"
     ]
    }
   ],
   "source": [
    "pin=1234\n",
    "print(hex(pin))"
   ]
  },
  {
   "cell_type": "code",
   "execution_count": null,
   "id": "0e39e8b7-0666-450e-91ac-6ed4918246b4",
   "metadata": {},
   "outputs": [],
   "source": [
    "# Conditional statements.\n"
   ]
  }
 ],
 "metadata": {
  "kernelspec": {
   "display_name": "Python 3 (ipykernel)",
   "language": "python",
   "name": "python3"
  },
  "language_info": {
   "codemirror_mode": {
    "name": "ipython",
    "version": 3
   },
   "file_extension": ".py",
   "mimetype": "text/x-python",
   "name": "python",
   "nbconvert_exporter": "python",
   "pygments_lexer": "ipython3",
   "version": "3.13.5"
  }
 },
 "nbformat": 4,
 "nbformat_minor": 5
}
