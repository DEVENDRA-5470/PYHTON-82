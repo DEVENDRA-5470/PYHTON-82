{
 "cells": [
  {
   "cell_type": "code",
   "execution_count": 1,
   "id": "0a23af74-b648-4aa2-9904-3c10f9cd65ca",
   "metadata": {},
   "outputs": [
    {
     "name": "stdout",
     "output_type": "stream",
     "text": [
      "1\n",
      "2\n",
      "3\n",
      "4\n",
      "5\n",
      "6\n",
      "7\n",
      "8\n",
      "9\n"
     ]
    }
   ],
   "source": [
    "# 2.while loop : conditioned based loop\n",
    "# 1.initial state (entry point)\n",
    "# 2.condition state\n",
    "# 3.increament/decreament state\n",
    "\n",
    "i=1 # initialization\n",
    "while (i<10): # condition\n",
    "    print(i)\n",
    "    i=i+1 # increament/decreament\n",
    "    "
   ]
  },
  {
   "cell_type": "code",
   "execution_count": 3,
   "id": "a98f2709-a9df-410d-9a4d-bfe520d62a56",
   "metadata": {},
   "outputs": [
    {
     "name": "stdout",
     "output_type": "stream",
     "text": [
      "10\n",
      "7\n",
      "4\n",
      "1\n"
     ]
    }
   ],
   "source": [
    "i=10\n",
    "while i>=1:\n",
    "    print(i)\n",
    "    i-=3\n"
   ]
  },
  {
   "cell_type": "code",
   "execution_count": 4,
   "id": "8df30f45-ac73-4eaa-a436-6f4ac9192963",
   "metadata": {},
   "outputs": [],
   "source": [
    "# while True:\n",
    "#     choice=input(\"Enter you choice : \")\n",
    "#     if choice==\"0\":\n",
    "#         break"
   ]
  },
  {
   "cell_type": "code",
   "execution_count": 7,
   "id": "dceaa6d0-4ff0-4107-bcc7-4a9e06d9db2b",
   "metadata": {},
   "outputs": [
    {
     "name": "stdin",
     "output_type": "stream",
     "text": [
      "Enter you number :  5\n"
     ]
    },
    {
     "name": "stdout",
     "output_type": "stream",
     "text": [
      "5 x 1 = 5\n",
      "5 x 2 = 10\n",
      "5 x 3 = 15\n",
      "5 x 4 = 20\n",
      "5 x 5 = 25\n",
      "5 x 6 = 30\n",
      "5 x 7 = 35\n",
      "5 x 8 = 40\n",
      "5 x 9 = 45\n",
      "5 x 10 = 50\n"
     ]
    }
   ],
   "source": [
    "# wap to print table of a number taken by user as input.\n",
    "user_input=int(input(\"Enter you number : \"))\n",
    "i=1\n",
    "while i<=10:\n",
    "    print(f\"{user_input} x {i} = {user_input*i}\")\n",
    "    i+=1"
   ]
  },
  {
   "cell_type": "code",
   "execution_count": 8,
   "id": "f282e400-8fcd-4a72-a583-9bf015b0c319",
   "metadata": {},
   "outputs": [],
   "source": [
    "# take start point from user and end point from sum of all generated number.\n",
    "# print all odd number \n",
    "# print sum of only even number\n",
    "# print count of total number of even\n"
   ]
  },
  {
   "cell_type": "code",
   "execution_count": null,
   "id": "b7154650-52ae-4ebc-87c0-9d56d42d7c1f",
   "metadata": {},
   "outputs": [],
   "source": [
    "str1=\"thisismystringforvowelconsonant\"\n",
    "vow\n",
    "cons\n",
    "iiioooe"
   ]
  }
 ],
 "metadata": {
  "kernelspec": {
   "display_name": "Python 3 (ipykernel)",
   "language": "python",
   "name": "python3"
  },
  "language_info": {
   "codemirror_mode": {
    "name": "ipython",
    "version": 3
   },
   "file_extension": ".py",
   "mimetype": "text/x-python",
   "name": "python",
   "nbconvert_exporter": "python",
   "pygments_lexer": "ipython3",
   "version": "3.13.5"
  }
 },
 "nbformat": 4,
 "nbformat_minor": 5
}
