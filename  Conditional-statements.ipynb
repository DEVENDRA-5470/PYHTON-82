{
 "cells": [
  {
   "cell_type": "code",
   "execution_count": 2,
   "id": "9c63b2ae-6240-4a6c-bafb-5b2b458b4a8f",
   "metadata": {},
   "outputs": [],
   "source": [
    " # Conditional statements.\n",
    "# 1.if else\n",
    "# 2.multiple if\n",
    "# 3.if elif else\n",
    "# 4.multiple if elif else.\n",
    "# 5.chaining of if else (nesting,ladder)"
   ]
  },
  {
   "cell_type": "code",
   "execution_count": 8,
   "id": "a2d4dac0-faac-4c4e-be74-458a20005399",
   "metadata": {},
   "outputs": [
    {
     "name": "stdout",
     "output_type": "stream",
     "text": [
      "False\n",
      "ha hai \n"
     ]
    }
   ],
   "source": [
    "a=40\n",
    "b=65\n",
    "res = a>b\n",
    "print(res)\n",
    "if (res==False):\n",
    "    print(\"ha hai \")\n",
    "else:\n",
    "    print(\"Nhi hai\")"
   ]
  },
  {
   "cell_type": "code",
   "execution_count": 10,
   "id": "88e0535a-013a-49c9-90dd-c25d5f33506e",
   "metadata": {},
   "outputs": [
    {
     "name": "stdout",
     "output_type": "stream",
     "text": [
      "yes\n"
     ]
    }
   ],
   "source": [
    "a=40\n",
    "b=65\n",
    "if a>b or a<b:\n",
    "    print(\"yes\")\n",
    "else:\n",
    "    print(\"No\")"
   ]
  },
  {
   "cell_type": "code",
   "execution_count": 17,
   "id": "71f0bd8f-1c85-4d93-a16e-6068f98df9dc",
   "metadata": {},
   "outputs": [
    {
     "name": "stdout",
     "output_type": "stream",
     "text": [
      "No\n",
      "no 1\n"
     ]
    },
    {
     "name": "stdin",
     "output_type": "stream",
     "text": [
      "  ytuty\n"
     ]
    },
    {
     "name": "stdout",
     "output_type": "stream",
     "text": [
      "ytuty\n"
     ]
    }
   ],
   "source": [
    "a=40\n",
    "b=65\n",
    "if (a>b and a<b):\n",
    "    print(\"yes\")\n",
    "    \n",
    "else:\n",
    "    print(\"No\")\n",
    "    print(\"no 1\")\n",
    "    n=input(\" \")\n",
    "    print(n)"
   ]
  },
  {
   "cell_type": "code",
   "execution_count": 27,
   "id": "7da12c75-fcc9-41bd-89b4-f571725ba1a0",
   "metadata": {},
   "outputs": [
    {
     "name": "stdout",
     "output_type": "stream",
     "text": [
      "nhi ayega\n"
     ]
    }
   ],
   "source": [
    "a=False\n",
    "if a:\n",
    "    print(\"How are you !\")\n",
    "else:\n",
    "    print(\"nhi ayega\")"
   ]
  },
  {
   "cell_type": "code",
   "execution_count": 26,
   "id": "a596506a-ec55-4d7e-ac77-e374d4766ddc",
   "metadata": {},
   "outputs": [
    {
     "name": "stdout",
     "output_type": "stream",
     "text": [
      "5\n"
     ]
    }
   ],
   "source": [
    "x=\"deviq\"\n",
    "print(len(x))"
   ]
  },
  {
   "cell_type": "code",
   "execution_count": 35,
   "id": "0cabb530-582d-46d3-914b-ce340ca21be9",
   "metadata": {},
   "outputs": [
    {
     "name": "stdout",
     "output_type": "stream",
     "text": [
      "This is odd\n"
     ]
    }
   ],
   "source": [
    "# wap to check number is odd or even and take the number by user.\n",
    "\n",
    "user=7\n",
    "if (user%2):\n",
    "    print(\"This is even\")\n",
    "else:\n",
    "    print(\"This is odd\")"
   ]
  },
  {
   "cell_type": "code",
   "execution_count": 42,
   "id": "8465d627-fb0e-433d-ad0c-af82438685d6",
   "metadata": {},
   "outputs": [
    {
     "name": "stdout",
     "output_type": "stream",
     "text": [
      "This is not divied by 3\n"
     ]
    }
   ],
   "source": [
    "# user=6\n",
    "# if (user%3!=0):\n",
    "#     print(\"This is divided by 3\")\n",
    "# else:\n",
    "#     print(\"This is not divied by 3\")"
   ]
  },
  {
   "cell_type": "code",
   "execution_count": 45,
   "id": "e61055bf-ff41-43e8-9dfe-e0957095d0a6",
   "metadata": {},
   "outputs": [
    {
     "name": "stdout",
     "output_type": "stream",
     "text": [
      "Not both divided\n"
     ]
    }
   ],
   "source": [
    "# wap to check number is divided by both 3 and 6 take number by user.\n",
    "# num=30\n",
    "# if num%3==0 and num%6==0:\n",
    "#     print(\"Both Divided\")\n",
    "# else:\n",
    "#     print(\"Not both divided\")"
   ]
  },
  {
   "cell_type": "code",
   "execution_count": 50,
   "id": "aa78aa40-4904-40e8-8a84-cfbcbbd168e4",
   "metadata": {},
   "outputs": [
    {
     "name": "stdout",
     "output_type": "stream",
     "text": [
      "Yes1\n",
      "yes3\n"
     ]
    }
   ],
   "source": [
    "# Multiple if  # continue condition checking rather true / false\n",
    "z=300\n",
    "if z>100:\n",
    "    print(\"Yes1\")\n",
    "if z>500:\n",
    "    print(\"Yes2\")\n",
    "if z>200:\n",
    "    print(\"yes3\")\n",
    "else:\n",
    "    print(\"No 1\")"
   ]
  },
  {
   "cell_type": "code",
   "execution_count": 57,
   "id": "030be54b-f04a-4fdc-86b6-07058b08c2b5",
   "metadata": {},
   "outputs": [
    {
     "name": "stdout",
     "output_type": "stream",
     "text": [
      "yes3\n"
     ]
    }
   ],
   "source": [
    "z=300\n",
    "if z>600:\n",
    "    print(\"Yes1\")\n",
    "elif z>300:\n",
    "    print(\"Yes2\")\n",
    "elif z>200:\n",
    "    print(\"yes3\")\n",
    "elif z>200:\n",
    "    print(\"yes4\")\n",
    "elif z>200:\n",
    "    print(\"yes5\")\n",
    "elif z>600:\n",
    "    print(\"yes6\")\n",
    "else:\n",
    "    print(\"No 1\")"
   ]
  },
  {
   "cell_type": "code",
   "execution_count": 7,
   "id": "c7c2bcaa-26b0-43fa-96a9-459ed69db508",
   "metadata": {},
   "outputs": [
    {
     "name": "stdout",
     "output_type": "stream",
     "text": [
      "Fail\n"
     ]
    }
   ],
   "source": [
    "marks=50\n",
    "if marks>80:\n",
    "    print(\"GRADE A\")\n",
    "elif marks >= 70:\n",
    "    print(\"GRADE B\")\n",
    "elif marks > 60:\n",
    "    print(\"GRADE C\")\n",
    "else:\n",
    "    print(\"Fail\")"
   ]
  },
  {
   "cell_type": "code",
   "execution_count": 9,
   "id": "06fbe7be-4d6f-447a-a3c8-30211fbc29fd",
   "metadata": {},
   "outputs": [
    {
     "name": "stdout",
     "output_type": "stream",
     "text": [
      " In g,m,r : r is greatest\n"
     ]
    }
   ],
   "source": [
    "# wap to take three number from user\n",
    "# and find greatest number among those\n",
    "# given three number\n",
    "\n",
    "num1=\"g\"\n",
    "num2=\"m\"\n",
    "num3=\"r\"\n",
    "if (num1>num2 and num1>num3):\n",
    "    print(f\" In {num1},{num2},{num3} : {num1} is greatest\")\n",
    "elif (num2>num1 and num2>num3):\n",
    "    print(f\" In {num1},{num2},{num3} : {num2} is greatest\")\n",
    "else:\n",
    "    print(f\" In {num1},{num2},{num3} : {num3} is greatest\")\n",
    "    "
   ]
  },
  {
   "cell_type": "code",
   "execution_count": 16,
   "id": "6225e502-15ee-41c7-b8af-95e4d818c2de",
   "metadata": {},
   "outputs": [
    {
     "name": "stdout",
     "output_type": "stream",
     "text": [
      "Not bye\n"
     ]
    }
   ],
   "source": [
    "# nested\n",
    "marks=90\n",
    "if 0:\n",
    "    if True:\n",
    "        \n",
    "        print(\"Hello\")\n",
    "        if 1:\n",
    "            if 1:\n",
    "                print(\"1\")\n",
    "            else:\n",
    "                print(\"2\")\n",
    "        else:\n",
    "            print(\"3\")\n",
    "    else:\n",
    "        print(\"bye\")\n",
    "    \n",
    "else:\n",
    "    print(\"Not bye\")\n",
    "\n",
    "\n",
    "            "
   ]
  },
  {
   "cell_type": "code",
   "execution_count": 10,
   "id": "8ab596f2-9f76-4265-8143-7c710f089221",
   "metadata": {},
   "outputs": [
    {
     "name": "stdin",
     "output_type": "stream",
     "text": [
      "Enter your pre marks :  500\n"
     ]
    },
    {
     "name": "stdout",
     "output_type": "stream",
     "text": [
      "Congrates you are pass in pre :500\n"
     ]
    },
    {
     "name": "stdin",
     "output_type": "stream",
     "text": [
      "Enter you mains marks : 77\n"
     ]
    },
    {
     "name": "stdout",
     "output_type": "stream",
     "text": [
      "Aap mains mein fail hogye..\n"
     ]
    }
   ],
   "source": [
    "user_pre=int(input(\"Enter your pre marks : \"))\n",
    "if user_pre<=600:\n",
    "    if user_pre > 400 and user_pre < 600:\n",
    "        print(f\"Congrates you are pass in pre :{user_pre}\")\n",
    "        user_mains=int(input(\"Enter you mains marks :\"))\n",
    "        if user_mains >= 500:\n",
    "            print(f\"Congrates you are pass in Mains :{user_mains}\")\n",
    "            user_intr=int(input(\"Enter you inter marks :\"))\n",
    "            if user_intr >= 600:\n",
    "                print(\"you are select for ips/ias.\")\n",
    "            else:\n",
    "                print(\"You are failed in interview\")\n",
    "        else:\n",
    "            print(\"Aap mains mein fail hogye..\")\n",
    "    else:\n",
    "        print(\"Aap pre mein fail hogye..\")\n",
    "else:\n",
    "    print(\"Invalid Marks\")"
   ]
  },
  {
   "cell_type": "code",
   "execution_count": null,
   "id": "e491447f-83c5-47d0-aa39-619ae7ca0a10",
   "metadata": {},
   "outputs": [],
   "source": [
    "#  A Software company evalutes job condidates based on three tests:\n",
    "# 1.aptitude test\n",
    "# 2.Technical test\n",
    "# 3.HR Interview\n",
    "\n",
    "# The selction criteria are follows:\n",
    "# if the condidate score more than 70 \n",
    "# in all three tests ,thye are selcted\n",
    "\n",
    "# if the condidate score more than 70 \n",
    "# in only two tests ,they are on hold\n",
    "\n",
    "# if the condidate score more than 70 \n",
    "# in only one or none of the tests , they are rejcted\n"
   ]
  }
 ],
 "metadata": {
  "kernelspec": {
   "display_name": "Python 3 (ipykernel)",
   "language": "python",
   "name": "python3"
  },
  "language_info": {
   "codemirror_mode": {
    "name": "ipython",
    "version": 3
   },
   "file_extension": ".py",
   "mimetype": "text/x-python",
   "name": "python",
   "nbconvert_exporter": "python",
   "pygments_lexer": "ipython3",
   "version": "3.13.5"
  }
 },
 "nbformat": 4,
 "nbformat_minor": 5
}
