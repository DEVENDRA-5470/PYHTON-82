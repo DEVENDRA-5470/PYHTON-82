{
 "cells": [
  {
   "cell_type": "code",
   "execution_count": null,
   "id": "a113c8e0-5c65-450e-9c40-51bfabfc528d",
   "metadata": {},
   "outputs": [],
   "source": [
    "# What is data structure.\n",
    "# Data structure is a part of how data stores and fetch (read/write).\n",
    "# Choosing right Data struture is also help to fetch data very \n",
    "# fast and effecintly .\n",
    "\n",
    "# Data structures in python\n",
    "# 1.List\n",
    "# 2.string\n",
    "# 3.tuple\n",
    "# 4.set\n",
    "# 5.Dictionary\n"
   ]
  },
  {
   "cell_type": "code",
   "execution_count": 3,
   "id": "4bafc700-7a58-442d-bacb-f76aa3a6866f",
   "metadata": {},
   "outputs": [],
   "source": [
    "# 1.List\n",
    "# Defination and properties\n",
    "# Creation\n",
    "# Accessing / slicing\n",
    "# Modification / update\n",
    "# Traversing\n",
    "# Built-in methods\n",
    "# Assignment"
   ]
  },
  {
   "cell_type": "code",
   "execution_count": null,
   "id": "084cf48b-f0b8-48b9-aa5a-b85a65f439b6",
   "metadata": {},
   "outputs": [],
   "source": []
  }
 ],
 "metadata": {
  "kernelspec": {
   "display_name": "Python 3 (ipykernel)",
   "language": "python",
   "name": "python3"
  },
  "language_info": {
   "codemirror_mode": {
    "name": "ipython",
    "version": 3
   },
   "file_extension": ".py",
   "mimetype": "text/x-python",
   "name": "python",
   "nbconvert_exporter": "python",
   "pygments_lexer": "ipython3",
   "version": "3.13.5"
  }
 },
 "nbformat": 4,
 "nbformat_minor": 5
}
