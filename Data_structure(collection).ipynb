{
 "cells": [
  {
   "cell_type": "code",
   "execution_count": null,
   "id": "a113c8e0-5c65-450e-9c40-51bfabfc528d",
   "metadata": {},
   "outputs": [],
   "source": [
    "# What is data structure.\n",
    "# Data structure is a part of how data stores and fetch (read/write).\n",
    "# Choosing right Data struture is also help to fetch data very \n",
    "# fast and effecintly .\n",
    "\n",
    "# Data structures in python\n",
    "# 1.List\n",
    "# 2.string\n",
    "# 3.tuple\n",
    "# 4.set\n",
    "# 5.Dictionary\n"
   ]
  },
  {
   "cell_type": "code",
   "execution_count": 3,
   "id": "4bafc700-7a58-442d-bacb-f76aa3a6866f",
   "metadata": {},
   "outputs": [],
   "source": [
    "# 1.List\n",
    "# Defination and properties\n",
    "# Creation\n",
    "# Accessing / slicing\n",
    "# Modification / update\n",
    "# Traversing\n",
    "# Built-in methods\n",
    "# Assignment"
   ]
  },
  {
   "cell_type": "code",
   "execution_count": null,
   "id": "084cf48b-f0b8-48b9-aa5a-b85a65f439b6",
   "metadata": {},
   "outputs": [],
   "source": [
    "# Defination and properties\n",
    "# 1.List is dynamic data structure in python used to store multiple data of \n",
    "# different types in one object/variable.\n",
    "# 2.List are mutable in nature.\n",
    "# 3.list are indexed,ordered and support slicing.\n",
    "# 4.list can be hetrogenous and homogenous.\n",
    "# 5.list have dynamic mermory management (shrink/grow (automatically))"
   ]
  },
  {
   "cell_type": "code",
   "execution_count": 7,
   "id": "68ee7706-361d-4012-a565-a9694565ae81",
   "metadata": {},
   "outputs": [
    {
     "name": "stdout",
     "output_type": "stream",
     "text": [
      "<class 'list'>\n",
      "[10, 20, 30, 40, 50, 60]\n",
      "\n",
      "[5, 6, 4, 43]\n",
      "<class 'list'>\n"
     ]
    }
   ],
   "source": [
    "# Creation\n",
    "# 1.using []\n",
    "stu_marks=[10,20,30,40,50,60] #homogenous\n",
    "print(type(stu_marks))\n",
    "print(stu_marks)\n",
    "\n",
    "print()\n",
    "\n",
    "# 2.list() constructor/method\n",
    "stu_roll=list((5,6,4,43))\n",
    "print(stu_roll)\n",
    "print(type(stu_roll))"
   ]
  },
  {
   "cell_type": "code",
   "execution_count": 21,
   "id": "7503eb34-b61f-4067-b8ad-2803d4806e7f",
   "metadata": {},
   "outputs": [
    {
     "name": "stdout",
     "output_type": "stream",
     "text": [
      "88\n"
     ]
    }
   ],
   "source": [
    "import sys\n",
    "stu_marks=[12,23,333333,787]\n",
    "print(sys.getsizeof(stu_marks))"
   ]
  },
  {
   "cell_type": "code",
   "execution_count": 30,
   "id": "e4735d83-56e2-40f4-a3cb-89005dbba97e",
   "metadata": {},
   "outputs": [
    {
     "name": "stdout",
     "output_type": "stream",
     "text": [
      "b\n"
     ]
    }
   ],
   "source": [
    "# Accessing\n",
    "my_list=[\"Aman\",\"shivam\",60,89,220,True,False,90,\n",
    "[56,90,80],['a','b','c']\n",
    "] # hetrogeneous\n",
    "\n",
    "# print(my_list)\n",
    "# print(len(my_list))\n",
    "# print(my_list[0])\n",
    "# print(my_list[-1])\n",
    "# print(my_list[len(my_list)-1])\n",
    "# print(my_list[9][1])"
   ]
  },
  {
   "cell_type": "code",
   "execution_count": 42,
   "id": "cacad115-9fe1-4377-8c88-a2a87f59b229",
   "metadata": {},
   "outputs": [
    {
     "name": "stdout",
     "output_type": "stream",
     "text": [
      "['a', 'b', 'c', 'd', 'e', 'f', 'g']\n",
      "['a', 'c', 'e', 'g']\n"
     ]
    }
   ],
   "source": [
    "# slicing\n",
    "# new_list=['a','b','c','d','e',\"f\",\"g\"]\n",
    "# print(new_list)\n",
    "# # res=[start:stop-1:step]\n",
    "# res=new_list[::2]\n",
    "# print(res)"
   ]
  },
  {
   "cell_type": "code",
   "execution_count": 47,
   "id": "8f20167a-b946-457b-a98a-0602c7b4910e",
   "metadata": {},
   "outputs": [
    {
     "name": "stdout",
     "output_type": "stream",
     "text": [
      "['iq india', 'b', 'c', 'd', 8900, 'f', 'python']\n",
      "<class 'int'>\n"
     ]
    }
   ],
   "source": [
    "# Modification / update\n",
    "# new_list=['a','b','c','d','e',\"f\",\"g\"]\n",
    "# new_list[0]=\"iq india\"\n",
    "# new_list[len(new_list)-1]=\"python\"\n",
    "# new_list[4]=8900\n",
    "# print(new_list)\n",
    "# print(type(new_list[4]))"
   ]
  },
  {
   "cell_type": "code",
   "execution_count": 50,
   "id": "22a7c6cb-cad1-4e08-a658-f96b68f2e4fc",
   "metadata": {},
   "outputs": [
    {
     "name": "stdout",
     "output_type": "stream",
     "text": [
      "['a', 'b', 'c', 'd', 'e', 'f', 'g']\n"
     ]
    }
   ],
   "source": [
    "# new_list=['a','b','c','d','e',\"f\",\"g\"]\n",
    "# del new_list\n",
    "# print(new_list)"
   ]
  },
  {
   "cell_type": "code",
   "execution_count": 53,
   "id": "7c1fcf06-adb2-46d1-b320-889f6b20cb51",
   "metadata": {},
   "outputs": [
    {
     "name": "stdout",
     "output_type": "stream",
     "text": [
      "<class 'list'>\n",
      "56\n"
     ]
    }
   ],
   "source": [
    "# create a empty list without [].\n",
    "# li=list()\n",
    "# print(type(li))\n",
    "# print(sys.getsizeof(li))"
   ]
  },
  {
   "cell_type": "code",
   "execution_count": 58,
   "id": "22e62034-d6e7-479e-8d9d-07df30e5d060",
   "metadata": {},
   "outputs": [
    {
     "name": "stdout",
     "output_type": "stream",
     "text": [
      "['g', 'b', 'c', 'd', 'e', 'f', 'a']\n"
     ]
    }
   ],
   "source": [
    "# my_list=['a', 'b', 'c', 'd', 'e', 'f', 'g']\n",
    "# first=my_list[0]\n",
    "# my_list[0]=my_list[len(my_list)-1]\n",
    "# my_list[-1]=first\n",
    "# print(my_list)"
   ]
  },
  {
   "cell_type": "code",
   "execution_count": 78,
   "id": "fdfe94a4-d01f-4768-bea4-44504f98a48b",
   "metadata": {},
   "outputs": [],
   "source": [
    "# Traversing\n",
    "# using for loop (3)\n",
    "# my_list=['a', 'b', 'c', 'd', 'e', 'f', 'g']\n",
    "# for i in range(len(my_list)):\n",
    "#     if i%2==0:\n",
    "#         print(my_list[i])\n",
    "\n",
    "\n",
    "# my_list=['a', 'b', 'c', 'd', 'e', 'f', 'g']\n",
    "# for i in my_list:\n",
    "#     if i%2==0:\n",
    "#         print(i)\n",
    "\n",
    "\n",
    "# my_list=['a', 'b', 'c', 'd', 'e', 'f', 'g']\n",
    "# for i in ['a', 'b', 'c', 'd', 'e', 'f', 'g']:\n",
    "#     print(i)"
   ]
  },
  {
   "cell_type": "code",
   "execution_count": 83,
   "id": "a02dc3ca-089d-4570-a615-46c3ae2dcd98",
   "metadata": {},
   "outputs": [],
   "source": [
    "# while loop\n",
    "# my_list=['a', 'b', 'c', 'd', 'e', 'f', 'g']\n",
    "# i=0\n",
    "# while i<len(my_list):\n",
    "#     print(my_list[i])\n",
    "#     i+=1"
   ]
  },
  {
   "cell_type": "code",
   "execution_count": null,
   "id": "105af2cf-8983-42ba-ab5d-b722a13f3ab2",
   "metadata": {},
   "outputs": [],
   "source": [
    "# wap to sum of all element present in the list.\n",
    "# wap to only print even number of the list.\n",
    "# wap to check greatest elm of the list.\n",
    "# wap to find the middle number of the list."
   ]
  },
  {
   "cell_type": "code",
   "execution_count": 3,
   "id": "7bd953dd-2c34-4919-8952-e00b176195d7",
   "metadata": {},
   "outputs": [
    {
     "name": "stdout",
     "output_type": "stream",
     "text": [
      "['a', 'b', 'c', 'd', 'e', 'f', 'g', 456, [34, 'aman', 89]]\n"
     ]
    }
   ],
   "source": [
    "# Built-in methods\n",
    "# my_list=['a', 'b', 'c', 'd', 'e', 'f', 'g']\n",
    "# my_list.append(456)\n",
    "# my_list.append([34,\"aman\",89])\n",
    "# print(my_list)"
   ]
  },
  {
   "cell_type": "code",
   "execution_count": 7,
   "id": "5c0e3d0f-6313-4511-85de-86a4f0a4c5be",
   "metadata": {},
   "outputs": [
    {
     "name": "stdout",
     "output_type": "stream",
     "text": [
      "['a', 'b', 'c', 'd', 'e', 'f', 'g', 456, 89, 434, 5, 554, 54353]\n"
     ]
    }
   ],
   "source": [
    "# my_list=['a', 'b', 'c', 'd', 'e', 'f', 'g']\n",
    "# my_list.extend([456,89,434,5,554,54353])\n",
    "# print(my_list)"
   ]
  },
  {
   "cell_type": "code",
   "execution_count": 9,
   "id": "19ce149d-7a79-4485-8b54-a4d7eb4ca115",
   "metadata": {},
   "outputs": [
    {
     "name": "stdout",
     "output_type": "stream",
     "text": [
      "['a', 'b', 'c', 'd', 'shivam', 'e', 'f', 'g']\n"
     ]
    }
   ],
   "source": [
    "# my_list=['a', 'b', 'c', 'd', 'e', 'f', 'g']\n",
    "# my_list.insert(4,\"shivam\")\n",
    "# print(my_list)"
   ]
  },
  {
   "cell_type": "code",
   "execution_count": 13,
   "id": "f6f22a18-48ff-402b-a730-438580914845",
   "metadata": {},
   "outputs": [
    {
     "name": "stdout",
     "output_type": "stream",
     "text": [
      "d\n",
      "['a', 'b', 'c', 'e', 'f']\n"
     ]
    }
   ],
   "source": [
    "my_list=['a', 'b', 'c', 'd', 'e', 'f', 'g']\n",
    "res=my_list.pop() # defalt remove -> last\n",
    "res=my_list.pop(3) # remove index\n",
    "print(res)\n",
    "print(my_list)"
   ]
  },
  {
   "cell_type": "code",
   "execution_count": 17,
   "id": "e2456189-76ce-4c56-a629-398e5905b102",
   "metadata": {},
   "outputs": [
    {
     "name": "stdout",
     "output_type": "stream",
     "text": [
      "['a', 'b', 'c', 'e', 'f', 'g']\n"
     ]
    }
   ],
   "source": [
    "# my_list=['a', 'b', 'c', 'd', 'e', 'f', 'g']\n",
    "# my_list.remove(\"d\")\n",
    "# print(my_list)"
   ]
  },
  {
   "cell_type": "code",
   "execution_count": 19,
   "id": "ee57e8dd-bd0c-44e2-8af9-75d8ff973965",
   "metadata": {},
   "outputs": [
    {
     "name": "stdout",
     "output_type": "stream",
     "text": [
      "[9, 8, 'g', 'f', 'e', 'd', 'c', 'b', 'a']\n"
     ]
    }
   ],
   "source": [
    "# my_list=['a', 'b', 'c', 'd', 'e', 'f', 'g',8,9]\n",
    "# my_list.reverse()\n",
    "# print(my_list)"
   ]
  },
  {
   "cell_type": "code",
   "execution_count": 24,
   "id": "549aaf63-c997-4f83-80d8-9a6cafa06079",
   "metadata": {},
   "outputs": [
    {
     "name": "stdout",
     "output_type": "stream",
     "text": [
      "[89, 43, 23, 4, 3, 1]\n"
     ]
    }
   ],
   "source": [
    "# my_list=[4,1,3,43,23,89]\n",
    "# # my_list.sort()\n",
    "# my_list.sort(reverse=1)\n",
    "# print(my_list)"
   ]
  },
  {
   "cell_type": "code",
   "execution_count": 27,
   "id": "d2d7c834-6837-4bcf-ad7e-65572c204a54",
   "metadata": {},
   "outputs": [
    {
     "name": "stdout",
     "output_type": "stream",
     "text": [
      "[4, 1, 3, 43, 23]\n",
      "[4, 1, 3, 43, 23, 89]\n"
     ]
    }
   ],
   "source": [
    "# my_list=[4,1,3,43,23,89]\n",
    "# copy=my_list.copy()\n",
    "# copy.pop()\n",
    "# print(copy)\n",
    "# print(my_list)"
   ]
  },
  {
   "cell_type": "code",
   "execution_count": 30,
   "id": "17620fcf-5fd1-4f12-9a21-19e2e8b6112c",
   "metadata": {},
   "outputs": [
    {
     "name": "stdout",
     "output_type": "stream",
     "text": [
      "4\n"
     ]
    }
   ],
   "source": [
    "# my_list=[4,1,3,43,3,23,89,3,6,3]\n",
    "# res=my_list.count(3)\n",
    "# print(res)"
   ]
  },
  {
   "cell_type": "code",
   "execution_count": 50,
   "id": "30f5a2d1-5157-4603-982e-2476987477d9",
   "metadata": {},
   "outputs": [
    {
     "name": "stdout",
     "output_type": "stream",
     "text": [
      "['a', 'c', 'b', 'a', 'd', 'a', 'b']\n",
      "0\n"
     ]
    }
   ],
   "source": [
    "my_list=[\"a\",\"c\",\"b\",\"a\",\"d\",\"a\",\"b\"]\n",
    "# my_list.clear()\n",
    "val=my_list.index(\"a\")\n",
    "print(my_list)\n",
    "print(val)"
   ]
  },
  {
   "cell_type": "code",
   "execution_count": 52,
   "id": "4ea7e955-1323-42e5-9a9f-f3d56cfed2e1",
   "metadata": {},
   "outputs": [],
   "source": [
    "# dir(list)"
   ]
  },
  {
   "cell_type": "code",
   "execution_count": null,
   "id": "ee7e6c56-1284-40d4-96c6-c49475ebf580",
   "metadata": {},
   "outputs": [],
   "source": [
    "# list comprehension"
   ]
  },
  {
   "cell_type": "code",
   "execution_count": 6,
   "id": "d61c624d-7d16-4f96-a37e-839e3785b52b",
   "metadata": {},
   "outputs": [
    {
     "name": "stdout",
     "output_type": "stream",
     "text": [
      "PRESS X FOR CLOSE PROGRAM\n"
     ]
    },
    {
     "name": "stdin",
     "output_type": "stream",
     "text": [
      " X\n"
     ]
    },
    {
     "name": "stdout",
     "output_type": "stream",
     "text": [
      "program closed\n"
     ]
    }
   ],
   "source": [
    "# wap to fill the all generated number from loop into the list.\n",
    "# meri_list=[]\n",
    "# for i in range(1,11):\n",
    "#     meri_list.append(i)\n",
    "# print(meri_list)\n",
    "\n",
    "# meri_list=[]\n",
    "# i=1\n",
    "# while i<=10:\n",
    "#     meri_list.append(i)\n",
    "#     i+=1\n",
    "# print(meri_list)\n",
    "\n",
    "# while True:\n",
    "#     s=input()\n",
    "#     if s==\"\":\n",
    "#         print(\"program closed\")\n",
    "#         break\n"
   ]
  },
  {
   "cell_type": "code",
   "execution_count": 19,
   "id": "3314fd3f-685b-4f57-9142-b2cd5c4a166a",
   "metadata": {},
   "outputs": [
    {
     "name": "stdout",
     "output_type": "stream",
     "text": [
      "['odd', 'even', 'odd', 'even', 'odd', 'even', 'odd', 'even', 'odd', 'even']\n"
     ]
    }
   ],
   "source": [
    "# meri_list=[]\n",
    "# for i in range(1,11):\n",
    "#     meri_list.append(i)\n",
    "# print(meri_list)\n",
    "\n",
    "my_list=[i**2 for i in range(1,11) if i%2==0]\n",
    "my_list=[\"even\" if i%2==0 else \"odd\" for i in range(1,11)]\n",
    "\n",
    "print(my_list)"
   ]
  }
 ],
 "metadata": {
  "kernelspec": {
   "display_name": "Python 3 (ipykernel)",
   "language": "python",
   "name": "python3"
  },
  "language_info": {
   "codemirror_mode": {
    "name": "ipython",
    "version": 3
   },
   "file_extension": ".py",
   "mimetype": "text/x-python",
   "name": "python",
   "nbconvert_exporter": "python",
   "pygments_lexer": "ipython3",
   "version": "3.13.5"
  }
 },
 "nbformat": 4,
 "nbformat_minor": 5
}
