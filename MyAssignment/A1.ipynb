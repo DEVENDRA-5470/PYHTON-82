{
 "cells": [
  {
   "cell_type": "code",
   "execution_count": 1,
   "id": "d9725ea2-e5d2-4553-a180-9fbdf480c2a4",
   "metadata": {},
   "outputs": [
    {
     "name": "stdout",
     "output_type": "stream",
     "text": [
      "This is my assesment-1\n"
     ]
    }
   ],
   "source": [
    "print(\"This is my assesment-1\")"
   ]
  }
 ],
 "metadata": {
  "kernelspec": {
   "display_name": "Python 3 (ipykernel)",
   "language": "python",
   "name": "python3"
  },
  "language_info": {
   "codemirror_mode": {
    "name": "ipython",
    "version": 3
   },
   "file_extension": ".py",
   "mimetype": "text/x-python",
   "name": "python",
   "nbconvert_exporter": "python",
   "pygments_lexer": "ipython3",
   "version": "3.13.5"
  }
 },
 "nbformat": 4,
 "nbformat_minor": 5
}
