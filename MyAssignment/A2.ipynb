{
 "cells": [
  {
   "cell_type": "code",
   "execution_count": 2,
   "id": "2402e334-60bc-47be-b03a-8224696b4cd5",
   "metadata": {},
   "outputs": [
    {
     "name": "stdout",
     "output_type": "stream",
     "text": [
      "A2\n"
     ]
    }
   ],
   "source": [
    "print(\"A2\")"
   ]
  },
  {
   "cell_type": "code",
   "execution_count": null,
   "id": "d706d0b5-a684-4240-a836-2537efb2d341",
   "metadata": {},
   "outputs": [],
   "source": []
  }
 ],
 "metadata": {
  "kernelspec": {
   "display_name": "Python 3 (ipykernel)",
   "language": "python",
   "name": "python3"
  },
  "language_info": {
   "codemirror_mode": {
    "name": "ipython",
    "version": 3
   },
   "file_extension": ".py",
   "mimetype": "text/x-python",
   "name": "python",
   "nbconvert_exporter": "python",
   "pygments_lexer": "ipython3",
   "version": "3.13.5"
  }
 },
 "nbformat": 4,
 "nbformat_minor": 5
}
